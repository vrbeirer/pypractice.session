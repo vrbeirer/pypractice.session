{
 "cells": [
  {
   "cell_type": "code",
   "execution_count": 55,
   "id": "546d59ac-7399-4751-b8f0-b306133c402d",
   "metadata": {},
   "outputs": [
    {
     "name": "stdin",
     "output_type": "stream",
     "text": [
      "enter the alphabet : A\n"
     ]
    },
    {
     "name": "stdout",
     "output_type": "stream",
     "text": [
      "it is a vowel\n"
     ]
    }
   ],
   "source": [
    "ch=str(input(\"enter the alphabet :\"))\n",
    "if(ch == 'a' or ch == 'e' or ch == 'i' or ch == 'o' or ch == 'u' or ch == 'A' or ch == 'E' or ch == 'I' or ch == 'O' or ch == 'U'):\n",
    "    print(\"it is a vowel\")\n",
    "else:\n",
    "    print(\"it is not a vowel\")\n",
    "\n"
   ]
  },
  {
   "cell_type": "code",
   "execution_count": 3,
   "id": "7e19d1e0-3573-4b0b-8371-16fe249f274b",
   "metadata": {},
   "outputs": [
    {
     "name": "stdin",
     "output_type": "stream",
     "text": [
      "Enter the number of days you have used the books: 5\n"
     ]
    },
    {
     "name": "stdout",
     "output_type": "stream",
     "text": [
      "5\n",
      "10 Rs\n"
     ]
    }
   ],
   "source": [
    "#question 2\n",
    "\n",
    "n=int(input(\"Enter the number of days you have used the books:\"))\n",
    "if n<=5:\n",
    "  print(n)\n",
    "  print(n*2,\"Rs\")\n",
    "\n",
    "elif 6<=n<=10:\n",
    "  print(n)\n",
    "  print(n*3,\"Rs\")\n",
    "elif 11<=n<=15:\n",
    "  print(n)\n",
    "  print(n*4,\"Rs\")\n",
    "else:\n",
    "  print(n)\n",
    "  print(n*5,\"Rs\")"
   ]
  },
  {
   "cell_type": "code",
   "execution_count": 9,
   "id": "ed02843b-b1fd-4af0-81d8-9eb30d0e866b",
   "metadata": {},
   "outputs": [
    {
     "name": "stdin",
     "output_type": "stream",
     "text": [
      "Enter a number:- 15\n"
     ]
    },
    {
     "name": "stdout",
     "output_type": "stream",
     "text": [
      "WIERD\n"
     ]
    }
   ],
   "source": [
    "\n",
    "#question 3\n",
    "\n",
    "n=int(input(\"Enter a number:-\"))\n",
    "if n%2==0:\n",
    "  if 2<=n<=5:\n",
    "    print(\"NOT WIERD\")\n",
    "  elif n>20:\n",
    "    print(\"NOT WIERD\")\n",
    "  else:\n",
    "    print(\" \")\n",
    "else:\n",
    "  print(\"WIERD\")"
   ]
  },
  {
   "cell_type": "code",
   "execution_count": null,
   "id": "b02c6033-8dbb-4bc7-bd2c-2b09cee18f4d",
   "metadata": {},
   "outputs": [],
   "source": []
  }
 ],
 "metadata": {
  "kernelspec": {
   "display_name": "Python 3 (ipykernel)",
   "language": "python",
   "name": "python3"
  },
  "language_info": {
   "codemirror_mode": {
    "name": "ipython",
    "version": 3
   },
   "file_extension": ".py",
   "mimetype": "text/x-python",
   "name": "python",
   "nbconvert_exporter": "python",
   "pygments_lexer": "ipython3",
   "version": "3.12.4"
  }
 },
 "nbformat": 4,
 "nbformat_minor": 5
}
